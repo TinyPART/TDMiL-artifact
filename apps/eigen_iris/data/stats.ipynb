{
 "cells": [
  {
   "cell_type": "code",
   "execution_count": 1,
   "metadata": {},
   "outputs": [],
   "source": [
    "import pandas as pd\n",
    "import numpy as np\n",
    "import matplotlib.pyplot as plt"
   ]
  },
  {
   "cell_type": "code",
   "execution_count": 8,
   "metadata": {},
   "outputs": [],
   "source": [
    "iid_dfs = [\n",
    "    pd.read_csv(\n",
    "        f\"train_iid_iris_norm_{idx}.csv\",\n",
    "        header=None,\n",
    "    )\n",
    "    for idx in range(5)\n",
    "]\n",
    "niid_dfs = [\n",
    "    pd.read_csv(\n",
    "        f\"train_niid_iris_norm_{idx}.csv\",\n",
    "        header=None,\n",
    "    )\n",
    "    for idx in range(5)\n",
    "]"
   ]
  },
  {
   "cell_type": "code",
   "execution_count": 9,
   "metadata": {},
   "outputs": [],
   "source": [
    "for idx, iid_df in enumerate(iid_dfs):\n",
    "    iid_df.rename(columns={4: 'labels'}, inplace=True)\n",
    "for idx, niid_df in enumerate(niid_dfs):\n",
    "    niid_df.rename(columns={4: 'labels'}, inplace=True)\n"
   ]
  },
  {
   "cell_type": "code",
   "execution_count": 10,
   "metadata": {},
   "outputs": [],
   "source": [
    "from collections import Counter\n"
   ]
  },
  {
   "cell_type": "code",
   "execution_count": 11,
   "metadata": {},
   "outputs": [
    {
     "name": "stdout",
     "output_type": "stream",
     "text": [
      "Dataset 0\n",
      "Counter({0.0: 43, 2.0: 40, 1.0: 37})\n",
      "Dataset 1\n",
      "Counter({2.0: 43, 0.0: 41, 1.0: 36})\n",
      "Dataset 2\n",
      "Counter({1.0: 44, 0.0: 39, 2.0: 37})\n",
      "Dataset 3\n",
      "Counter({1.0: 42, 2.0: 40, 0.0: 38})\n",
      "Dataset 4\n",
      "Counter({2.0: 45, 0.0: 42, 1.0: 33})\n"
     ]
    }
   ],
   "source": [
    "for idx, iid_df in enumerate(iid_dfs):\n",
    "    print(f\"Dataset {idx}\")\n",
    "    print(Counter(iid_df['labels']))"
   ]
  },
  {
   "cell_type": "markdown",
   "metadata": {},
   "source": [
    "| Dataset   | 0.0 | 1.0 | 2.0 |\n",
    "|-----------|-----|-----|-----|\n",
    "| Dataset 0 |  43 |  37 |  40 |\n",
    "| Dataset 1 |  41 |  36 |  43 |\n",
    "| Dataset 2 |  39 |  44 |  37 |\n",
    "| Dataset 3 |  38 |  42 |  40 |\n",
    "| Dataset 4 |  42 |  33 |  45 |\n"
   ]
  },
  {
   "cell_type": "code",
   "execution_count": 12,
   "metadata": {},
   "outputs": [
    {
     "name": "stdout",
     "output_type": "stream",
     "text": [
      "Dataset 0\n",
      "Counter({2.0: 120})\n",
      "Dataset 1\n",
      "Counter({2.0: 85, 0.0: 20, 1.0: 15})\n",
      "Dataset 2\n",
      "Counter({0.0: 120})\n",
      "Dataset 3\n",
      "Counter({1.0: 120})\n",
      "Dataset 4\n",
      "Counter({0.0: 63, 1.0: 57})\n"
     ]
    }
   ],
   "source": [
    "for idx, niid_df in enumerate(niid_dfs):\n",
    "    print(f\"Dataset {idx}\")\n",
    "    print(Counter(niid_df[\"labels\"]))"
   ]
  },
  {
   "cell_type": "markdown",
   "metadata": {},
   "source": [
    "| Dataset   | 0.0 | 1.0 | 2.0 |\n",
    "|-----------|-----|-----|-----|\n",
    "| Dataset 0 |  -  |  -  | 120 |\n",
    "| Dataset 1 |  20 |  15 |  85 |\n",
    "| Dataset 2 | 120 |  -  |  -  |\n",
    "| Dataset 3 |  -  | 120 |  -  |\n",
    "| Dataset 4 |  63 |  57 |  -  |\n"
   ]
  }
 ],
 "metadata": {
  "kernelspec": {
   "display_name": "py38",
   "language": "python",
   "name": "python3"
  },
  "language_info": {
   "codemirror_mode": {
    "name": "ipython",
    "version": 3
   },
   "file_extension": ".py",
   "mimetype": "text/x-python",
   "name": "python",
   "nbconvert_exporter": "python",
   "pygments_lexer": "ipython3",
   "version": "3.8.0"
  }
 },
 "nbformat": 4,
 "nbformat_minor": 2
}
