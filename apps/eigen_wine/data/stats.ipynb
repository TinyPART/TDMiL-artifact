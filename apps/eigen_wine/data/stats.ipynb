{
 "cells": [
  {
   "cell_type": "code",
   "execution_count": 1,
   "metadata": {},
   "outputs": [],
   "source": [
    "import pandas as pd\n",
    "import numpy as np\n",
    "import matplotlib.pyplot as plt"
   ]
  },
  {
   "cell_type": "code",
   "execution_count": 3,
   "metadata": {},
   "outputs": [],
   "source": [
    "iid_dfs = [\n",
    "    pd.read_csv(\n",
    "        f\"train_iid_wine_norm_{idx}.csv\",\n",
    "        header=None,\n",
    "    )\n",
    "    for idx in range(5)\n",
    "]\n",
    "niid_dfs = [\n",
    "    pd.read_csv(\n",
    "        f\"train_niid_wine_norm_{idx}.csv\",\n",
    "        header=None,\n",
    "    )\n",
    "    for idx in range(5)\n",
    "]"
   ]
  },
  {
   "cell_type": "code",
   "execution_count": 4,
   "metadata": {},
   "outputs": [
    {
     "data": {
      "text/html": [
       "<div>\n",
       "<style scoped>\n",
       "    .dataframe tbody tr th:only-of-type {\n",
       "        vertical-align: middle;\n",
       "    }\n",
       "\n",
       "    .dataframe tbody tr th {\n",
       "        vertical-align: top;\n",
       "    }\n",
       "\n",
       "    .dataframe thead th {\n",
       "        text-align: right;\n",
       "    }\n",
       "</style>\n",
       "<table border=\"1\" class=\"dataframe\">\n",
       "  <thead>\n",
       "    <tr style=\"text-align: right;\">\n",
       "      <th></th>\n",
       "      <th>0</th>\n",
       "      <th>1</th>\n",
       "      <th>2</th>\n",
       "      <th>3</th>\n",
       "      <th>4</th>\n",
       "      <th>5</th>\n",
       "      <th>6</th>\n",
       "      <th>7</th>\n",
       "      <th>8</th>\n",
       "      <th>9</th>\n",
       "      <th>10</th>\n",
       "      <th>11</th>\n",
       "      <th>12</th>\n",
       "      <th>13</th>\n",
       "    </tr>\n",
       "  </thead>\n",
       "  <tbody>\n",
       "    <tr>\n",
       "      <th>0</th>\n",
       "      <td>0.723008</td>\n",
       "      <td>0.319491</td>\n",
       "      <td>0.102199</td>\n",
       "      <td>0.520154</td>\n",
       "      <td>1.062583</td>\n",
       "      <td>0.740896</td>\n",
       "      <td>0.498993</td>\n",
       "      <td>0.305176</td>\n",
       "      <td>0.943927</td>\n",
       "      <td>0.158488</td>\n",
       "      <td>0.566508</td>\n",
       "      <td>0.631529</td>\n",
       "      <td>0.580304</td>\n",
       "      <td>1.0</td>\n",
       "    </tr>\n",
       "    <tr>\n",
       "      <th>1</th>\n",
       "      <td>0.343558</td>\n",
       "      <td>0.262189</td>\n",
       "      <td>1.068947</td>\n",
       "      <td>0.794786</td>\n",
       "      <td>0.287208</td>\n",
       "      <td>0.163044</td>\n",
       "      <td>0.383191</td>\n",
       "      <td>0.977114</td>\n",
       "      <td>0.276256</td>\n",
       "      <td>0.774107</td>\n",
       "      <td>-0.066903</td>\n",
       "      <td>0.070285</td>\n",
       "      <td>0.614116</td>\n",
       "      <td>2.0</td>\n",
       "    </tr>\n",
       "    <tr>\n",
       "      <th>2</th>\n",
       "      <td>0.843803</td>\n",
       "      <td>0.204391</td>\n",
       "      <td>0.700703</td>\n",
       "      <td>-0.009626</td>\n",
       "      <td>0.799267</td>\n",
       "      <td>-0.006330</td>\n",
       "      <td>-0.003590</td>\n",
       "      <td>1.168353</td>\n",
       "      <td>0.193950</td>\n",
       "      <td>0.610937</td>\n",
       "      <td>0.372918</td>\n",
       "      <td>0.036880</td>\n",
       "      <td>0.471529</td>\n",
       "      <td>2.0</td>\n",
       "    </tr>\n",
       "    <tr>\n",
       "      <th>3</th>\n",
       "      <td>0.231597</td>\n",
       "      <td>-0.043946</td>\n",
       "      <td>0.605717</td>\n",
       "      <td>0.471600</td>\n",
       "      <td>0.343241</td>\n",
       "      <td>0.207814</td>\n",
       "      <td>0.399988</td>\n",
       "      <td>0.729403</td>\n",
       "      <td>0.010185</td>\n",
       "      <td>0.247020</td>\n",
       "      <td>0.908624</td>\n",
       "      <td>0.585729</td>\n",
       "      <td>0.202051</td>\n",
       "      <td>1.0</td>\n",
       "    </tr>\n",
       "    <tr>\n",
       "      <th>4</th>\n",
       "      <td>-0.201411</td>\n",
       "      <td>0.619903</td>\n",
       "      <td>0.309618</td>\n",
       "      <td>0.847769</td>\n",
       "      <td>-0.151025</td>\n",
       "      <td>0.586110</td>\n",
       "      <td>0.246331</td>\n",
       "      <td>0.353715</td>\n",
       "      <td>0.834599</td>\n",
       "      <td>-0.142059</td>\n",
       "      <td>0.179698</td>\n",
       "      <td>1.005610</td>\n",
       "      <td>-0.259435</td>\n",
       "      <td>1.0</td>\n",
       "    </tr>\n",
       "  </tbody>\n",
       "</table>\n",
       "</div>"
      ],
      "text/plain": [
       "         0         1         2         3         4         5         6   \\\n",
       "0  0.723008  0.319491  0.102199  0.520154  1.062583  0.740896  0.498993   \n",
       "1  0.343558  0.262189  1.068947  0.794786  0.287208  0.163044  0.383191   \n",
       "2  0.843803  0.204391  0.700703 -0.009626  0.799267 -0.006330 -0.003590   \n",
       "3  0.231597 -0.043946  0.605717  0.471600  0.343241  0.207814  0.399988   \n",
       "4 -0.201411  0.619903  0.309618  0.847769 -0.151025  0.586110  0.246331   \n",
       "\n",
       "         7         8         9         10        11        12   13  \n",
       "0  0.305176  0.943927  0.158488  0.566508  0.631529  0.580304  1.0  \n",
       "1  0.977114  0.276256  0.774107 -0.066903  0.070285  0.614116  2.0  \n",
       "2  1.168353  0.193950  0.610937  0.372918  0.036880  0.471529  2.0  \n",
       "3  0.729403  0.010185  0.247020  0.908624  0.585729  0.202051  1.0  \n",
       "4  0.353715  0.834599 -0.142059  0.179698  1.005610 -0.259435  1.0  "
      ]
     },
     "execution_count": 4,
     "metadata": {},
     "output_type": "execute_result"
    }
   ],
   "source": [
    "iid_dfs[0].head()"
   ]
  },
  {
   "cell_type": "code",
   "execution_count": 5,
   "metadata": {},
   "outputs": [],
   "source": [
    "for idx, iid_df in enumerate(iid_dfs):\n",
    "    iid_df.rename(columns={13: 'labels'}, inplace=True)\n",
    "for idx, niid_df in enumerate(niid_dfs):\n",
    "    niid_df.rename(columns={13: 'labels'}, inplace=True)\n"
   ]
  },
  {
   "cell_type": "code",
   "execution_count": 8,
   "metadata": {},
   "outputs": [],
   "source": [
    "from collections import Counter\n"
   ]
  },
  {
   "cell_type": "code",
   "execution_count": 9,
   "metadata": {},
   "outputs": [
    {
     "name": "stdout",
     "output_type": "stream",
     "text": [
      "Dataset 0\n",
      "Counter({1.0: 60, 0.0: 45, 2.0: 38})\n",
      "Dataset 1\n",
      "Counter({0.0: 49, 2.0: 47, 1.0: 47})\n",
      "Dataset 2\n",
      "Counter({1.0: 66, 0.0: 41, 2.0: 35})\n",
      "Dataset 3\n",
      "Counter({1.0: 54, 0.0: 53, 2.0: 35})\n",
      "Dataset 4\n",
      "Counter({0.0: 51, 1.0: 49, 2.0: 42})\n"
     ]
    }
   ],
   "source": [
    "for idx, iid_df in enumerate(iid_dfs):\n",
    "    print(f\"Dataset {idx}\")\n",
    "    print(Counter(iid_df['labels']))"
   ]
  },
  {
   "cell_type": "markdown",
   "metadata": {},
   "source": [
    "| Dataset   | 0.0 | 1.0 | 2.0 |\n",
    "|-----------|-----|-----|-----|\n",
    "| Dataset 0 |  45 |  60 |  38 |\n",
    "| Dataset 1 |  49 |  47 |  47 |\n",
    "| Dataset 2 |  41 |  66 |  35 |\n",
    "| Dataset 3 |  53 |  54 |  35 |\n",
    "| Dataset 4 |  51 |  49 |  42 |\n"
   ]
  },
  {
   "cell_type": "code",
   "execution_count": 10,
   "metadata": {},
   "outputs": [
    {
     "name": "stdout",
     "output_type": "stream",
     "text": [
      "Dataset 0\n",
      "Counter({2.0: 143})\n",
      "Dataset 1\n",
      "Counter({0.0: 143})\n",
      "Dataset 2\n",
      "Counter({0.0: 96, 2.0: 25, 1.0: 21})\n",
      "Dataset 3\n",
      "Counter({1.0: 142})\n",
      "Dataset 4\n",
      "Counter({1.0: 113, 2.0: 29})\n"
     ]
    }
   ],
   "source": [
    "for idx, niid_df in enumerate(niid_dfs):\n",
    "    print(f\"Dataset {idx}\")\n",
    "    print(Counter(niid_df[\"labels\"]))"
   ]
  },
  {
   "cell_type": "markdown",
   "metadata": {},
   "source": [
    "| Dataset   | 0.0 | 1.0 | 2.0 |\n",
    "|-----------|-----|-----|-----|\n",
    "| Dataset 0 |  -  |  -  | 143 |\n",
    "| Dataset 1 | 143 |  -  |  -  |\n",
    "| Dataset 2 |  96 |  21 |  25 |\n",
    "| Dataset 3 |  -  | 142 |  -  |\n",
    "| Dataset 4 |  -  | 113 |  29 |\n"
   ]
  }
 ],
 "metadata": {
  "kernelspec": {
   "display_name": "py38",
   "language": "python",
   "name": "python3"
  },
  "language_info": {
   "codemirror_mode": {
    "name": "ipython",
    "version": 3
   },
   "file_extension": ".py",
   "mimetype": "text/x-python",
   "name": "python",
   "nbconvert_exporter": "python",
   "pygments_lexer": "ipython3",
   "version": "3.8.0"
  }
 },
 "nbformat": 4,
 "nbformat_minor": 2
}
